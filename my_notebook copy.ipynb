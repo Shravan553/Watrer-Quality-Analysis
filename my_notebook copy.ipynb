{
 "cells": [
  {
   "cell_type": "code",
   "execution_count": null,
   "id": "8a35696fe54dc38f",
   "metadata": {
    "ExecuteTime": {
     "end_time": "2024-05-29T06:20:15.208875Z",
     "start_time": "2024-05-29T06:20:15.186501Z"
    }
   },
   "outputs": [],
   "source": [
    "import pandas as pd\n",
    "df = pd.read_csv('Water Quality Testing.csv')\n",
    "print(df.head())\n",
    "print(df.describe())"
   ]
  },
  {
   "cell_type": "code",
   "execution_count": null,
   "id": "4962493b17a547e6",
   "metadata": {
    "ExecuteTime": {
     "end_time": "2024-05-29T06:21:14.779654Z",
     "start_time": "2024-05-29T06:21:14.466716Z"
    }
   },
   "outputs": [],
   "source": [
    "import matplotlib.pyplot as plt\n",
    "import seaborn as sns\n",
    "\n",
    "# Set the aesthetic style of the plots\n",
    "sns.set(style='whitegrid')\n",
    "\n",
    "# Plotting the distribution of pH values\n",
    "plt.figure(figsize=(10, 6), facecolor='white')\n",
    "sns.histplot(df['pH'], kde=True, color='blue', bins=30)\n",
    "plt.title('Distribution of pH Values')\n",
    "plt.xlabel('pH')\n",
    "plt.ylabel('Frequency')\n",
    "plt.show()"
   ]
  },
  {
   "cell_type": "code",
   "execution_count": null,
   "id": "af70770da491f73a",
   "metadata": {
    "ExecuteTime": {
     "end_time": "2024-05-29T06:21:29.392765Z",
     "start_time": "2024-05-29T06:21:29.191856Z"
    }
   },
   "outputs": [],
   "source": [
    "plt.figure(figsize=(10, 6), facecolor='white')\n",
    "plt.scatter(df['pH'], df['Dissolved Oxygen (mg/L)'], color='green', alpha=0.5)\n",
    "plt.title('Scatter Plot of pH vs. Dissolved Oxygen')\n",
    "plt.xlabel('pH')\n",
    "plt.ylabel('Dissolved Oxygen (mg/L)')\n",
    "plt.grid(True)\n",
    "plt.show()"
   ]
  },
  {
   "cell_type": "code",
   "execution_count": null,
   "id": "5c77582ed68fc673",
   "metadata": {
    "ExecuteTime": {
     "end_time": "2024-05-29T06:21:39.088698Z",
     "start_time": "2024-05-29T06:21:38.920670Z"
    }
   },
   "outputs": [],
   "source": [
    "import numpy as np\n",
    "\n",
    "# Creating a scatter plot with a trend line\n",
    "plt.figure(figsize=(10, 6), facecolor='white')\n",
    "plt.scatter(df['pH'], df['Dissolved Oxygen (mg/L)'], color='green', alpha=0.5)\n",
    "\n",
    "# Calculating the trend line\n",
    "z = np.polyfit(df['pH'], df['Dissolved Oxygen (mg/L)'], 1)\n",
    "p = np.poly1d(z)\n",
    "plt.plot(df['pH'], p(df['pH']), \"r--\")\n",
    "\n",
    "plt.title('Scatter Plot of pH vs. Dissolved Oxygen with Trend Line')\n",
    "plt.xlabel('pH')\n",
    "plt.ylabel('Dissolved Oxygen (mg/L)')\n",
    "plt.grid(True)\n",
    "plt.show()"
   ]
  },
  {
   "cell_type": "code",
   "execution_count": null,
   "id": "2dc2a84cc5ae6e95",
   "metadata": {
    "ExecuteTime": {
     "end_time": "2024-05-29T06:21:50.458282Z",
     "start_time": "2024-05-29T06:21:50.449592Z"
    }
   },
   "outputs": [],
   "source": [
    "# Calculating the correlation coefficient between pH and Dissolved Oxygen\n",
    "correlation = df['pH'].corr(df['Dissolved Oxygen (mg/L)'])\n",
    "print('Correlation coefficient between pH and Dissolved Oxygen:', correlation)"
   ]
  },
  {
   "cell_type": "code",
   "execution_count": null,
   "id": "6d7b3082dc1fe36e",
   "metadata": {
    "ExecuteTime": {
     "end_time": "2024-05-29T06:27:16.840343Z",
     "start_time": "2024-05-29T06:27:15.617796Z"
    }
   },
   "outputs": [],
   "source": [
    "import pandas as pd\n",
    "from sklearn import linear_model\n",
    "import matplotlib.pyplot as plt\n",
    "import plotly.express as px\n",
    "import seaborn as sns\n",
    "import statsmodels.api as sma\n",
    "from sklearn.model_selection import train_test_split\n",
    "from sklearn.metrics import accuracy_score\n",
    "from sklearn.preprocessing import PolynomialFeatures\n",
    "import numpy as np\n",
    "water_quality_data = pd.read_csv('Water Quality Testing.csv')\n",
    "water_quality_data"
   ]
  },
  {
   "cell_type": "code",
   "execution_count": null,
   "id": "b92cfb69c5fd93e0",
   "metadata": {
    "ExecuteTime": {
     "end_time": "2024-05-29T06:27:41.999316Z",
     "start_time": "2024-05-29T06:27:41.968125Z"
    }
   },
   "outputs": [],
   "source": [
    "water_quality_data.describe()"
   ]
  },
  {
   "cell_type": "code",
   "execution_count": null,
   "id": "ae8c4a35ae6a9d6c",
   "metadata": {
    "ExecuteTime": {
     "end_time": "2024-05-29T06:27:52.585335Z",
     "start_time": "2024-05-29T06:27:52.572860Z"
    }
   },
   "outputs": [],
   "source": [
    "water_quality_data.info()"
   ]
  },
  {
   "cell_type": "code",
   "execution_count": null,
   "id": "4a1ac734b7848066",
   "metadata": {
    "ExecuteTime": {
     "end_time": "2024-05-29T06:28:40.521270Z",
     "start_time": "2024-05-29T06:28:40.501986Z"
    }
   },
   "outputs": [],
   "source": [
    "reg = linear_model.LinearRegression()\n",
    "reg.fit(water_quality_data[['pH', 'Temperature (°C)', 'Turbidity (NTU)', 'Dissolved Oxygen (mg/L)']], water_quality_data['Conductivity (µS/cm)'])"
   ]
  },
  {
   "cell_type": "code",
   "execution_count": null,
   "id": "18872f76f57e7e12",
   "metadata": {
    "ExecuteTime": {
     "end_time": "2024-05-29T06:29:30.325671Z",
     "start_time": "2024-05-29T06:29:30.318765Z"
    }
   },
   "outputs": [],
   "source": [
    "reg.intercept_"
   ]
  },
  {
   "cell_type": "code",
   "execution_count": null,
   "id": "e241028c871f1059",
   "metadata": {
    "ExecuteTime": {
     "end_time": "2024-05-29T06:29:37.555797Z",
     "start_time": "2024-05-29T06:29:37.536161Z"
    }
   },
   "outputs": [],
   "source": [
    "reg.coef_"
   ]
  },
  {
   "cell_type": "code",
   "execution_count": null,
   "id": "8939a25f9974417f",
   "metadata": {
    "ExecuteTime": {
     "end_time": "2024-05-29T06:29:44.952587Z",
     "start_time": "2024-05-29T06:29:44.935318Z"
    }
   },
   "outputs": [],
   "source": [
    "reg_pred = reg.intercept_ + reg.coef_\n",
    "reg_pred"
   ]
  },
  {
   "cell_type": "code",
   "execution_count": null,
   "id": "b2fe08c654121dd8",
   "metadata": {
    "ExecuteTime": {
     "end_time": "2024-05-29T06:29:54.902853Z",
     "start_time": "2024-05-29T06:29:54.774712Z"
    }
   },
   "outputs": [],
   "source": [
    "plt.plot(reg_pred, marker='x')\n",
    "plt.show()"
   ]
  },
  {
   "cell_type": "code",
   "execution_count": 18,
   "id": "3de4cee95467f0b5",
   "metadata": {
    "ExecuteTime": {
     "end_time": "2024-05-29T06:30:11.282785Z",
     "start_time": "2024-05-29T06:30:11.266183Z"
    }
   },
   "outputs": [],
   "source": [
    "a = water_quality_data['pH']\n",
    "b = water_quality_data['Temperature (°C)']"
   ]
  },
  {
   "cell_type": "code",
   "execution_count": 19,
   "id": "685f482046c392aa",
   "metadata": {
    "ExecuteTime": {
     "end_time": "2024-05-29T06:30:17.198059Z",
     "start_time": "2024-05-29T06:30:17.193812Z"
    }
   },
   "outputs": [],
   "source": [
    "a = np.array(a)\n",
    "b = np.array(b)"
   ]
  },
  {
   "cell_type": "code",
   "execution_count": 20,
   "id": "305f182ebc3d593d",
   "metadata": {
    "ExecuteTime": {
     "end_time": "2024-05-29T06:30:23.638204Z",
     "start_time": "2024-05-29T06:30:23.628014Z"
    }
   },
   "outputs": [],
   "source": [
    "a = sma.add_constant(a)"
   ]
  },
  {
   "cell_type": "code",
   "execution_count": 21,
   "id": "640796f593ea2ccb",
   "metadata": {
    "ExecuteTime": {
     "end_time": "2024-05-29T06:30:29.441627Z",
     "start_time": "2024-05-29T06:30:29.421066Z"
    }
   },
   "outputs": [],
   "source": [
    "model = sma.OLS(b, a).fit()"
   ]
  },
  {
   "cell_type": "code",
   "execution_count": null,
   "id": "2531b53a4a481f58",
   "metadata": {
    "ExecuteTime": {
     "end_time": "2024-05-29T06:30:35.104320Z",
     "start_time": "2024-05-29T06:30:35.090169Z"
    }
   },
   "outputs": [],
   "source": [
    "print(model.summary())"
   ]
  },
  {
   "cell_type": "code",
   "execution_count": null,
   "id": "ab26d819da60da40",
   "metadata": {
    "ExecuteTime": {
     "end_time": "2024-05-29T06:30:54.737619Z",
     "start_time": "2024-05-29T06:30:47.861096Z"
    }
   },
   "outputs": [],
   "source": [
    "sns.set_style('whitegrid')\n",
    "sns.pairplot(water_quality_data, kind='scatter', height=3.5)"
   ]
  },
  {
   "cell_type": "code",
   "execution_count": null,
   "id": "645d049569c767b4",
   "metadata": {
    "ExecuteTime": {
     "end_time": "2024-05-29T06:31:00.336349Z",
     "start_time": "2024-05-29T06:31:00.195575Z"
    }
   },
   "outputs": [],
   "source": [
    "plt.scatter(x=water_quality_data['Dissolved Oxygen (mg/L)'], y=water_quality_data['Conductivity (µS/cm)'], marker='x')\n",
    "plt.show()"
   ]
  },
  {
   "cell_type": "code",
   "execution_count": null,
   "id": "b7f5de271f8d92e4",
   "metadata": {
    "ExecuteTime": {
     "end_time": "2024-05-29T06:31:13.109316Z",
     "start_time": "2024-05-29T06:31:08.351354Z"
    }
   },
   "outputs": [],
   "source": [
    "sns.set_style('whitegrid')\n",
    "sns.pairplot(water_quality_data[['pH', 'Temperature (°C)', 'Turbidity (NTU)', 'Dissolved Oxygen (mg/L)', 'Conductivity (µS/cm)']], hue='Conductivity (µS/cm)')"
   ]
  },
  {
   "cell_type": "code",
   "execution_count": null,
   "id": "4684fdb16745f22",
   "metadata": {
    "ExecuteTime": {
     "end_time": "2024-05-29T06:31:17.739572Z",
     "start_time": "2024-05-29T06:31:17.449554Z"
    }
   },
   "outputs": [],
   "source": [
    "sns.relplot(water_quality_data, x='Turbidity (NTU)', y='Dissolved Oxygen (mg/L)')"
   ]
  },
  {
   "cell_type": "code",
   "execution_count": null,
   "id": "4ff73a01e952457f",
   "metadata": {
    "ExecuteTime": {
     "end_time": "2024-05-29T06:31:29.310200Z",
     "start_time": "2024-05-29T06:31:29.049184Z"
    }
   },
   "outputs": [],
   "source": [
    "sns.regplot(water_quality_data, x='Turbidity (NTU)', y='Dissolved Oxygen (mg/L)')"
   ]
  },
  {
   "cell_type": "code",
   "execution_count": null,
   "id": "b2ae857455ced570",
   "metadata": {
    "ExecuteTime": {
     "end_time": "2024-05-29T06:31:36.571891Z",
     "start_time": "2024-05-29T06:31:36.373413Z"
    }
   },
   "outputs": [],
   "source": [
    "sns.set_style(\"darkgrid\")\n",
    "sns.histplot(water_quality_data, x='pH')"
   ]
  },
  {
   "cell_type": "code",
   "execution_count": null,
   "id": "da5e89aca826acff",
   "metadata": {
    "ExecuteTime": {
     "end_time": "2024-05-29T06:31:43.675754Z",
     "start_time": "2024-05-29T06:31:43.216246Z"
    }
   },
   "outputs": [],
   "source": [
    "sns.lmplot(water_quality_data, x='Temperature (°C)', y='Conductivity (µS/cm)', line_kws={'color':'black'})"
   ]
  },
  {
   "cell_type": "code",
   "execution_count": null,
   "id": "139ebb4624bb9945",
   "metadata": {
    "ExecuteTime": {
     "end_time": "2024-05-29T06:31:50.561279Z",
     "start_time": "2024-05-29T06:31:50.179032Z"
    }
   },
   "outputs": [],
   "source": [
    "sns.lmplot(water_quality_data, x='pH', y='Turbidity (NTU)', scatter_kws={'color' : 'grey'}, line_kws={'color' : 'black'})"
   ]
  },
  {
   "cell_type": "code",
   "execution_count": 31,
   "id": "795fa35722656e23",
   "metadata": {
    "ExecuteTime": {
     "end_time": "2024-05-29T06:31:56.696507Z",
     "start_time": "2024-05-29T06:31:56.692030Z"
    }
   },
   "outputs": [],
   "source": [
    "a = water_quality_data['Turbidity (NTU)']\n",
    "b = water_quality_data['Dissolved Oxygen (mg/L)']"
   ]
  },
  {
   "cell_type": "code",
   "execution_count": 32,
   "id": "f53cd0446111d2",
   "metadata": {
    "ExecuteTime": {
     "end_time": "2024-05-29T06:32:03.653814Z",
     "start_time": "2024-05-29T06:32:03.646655Z"
    }
   },
   "outputs": [],
   "source": [
    "features = ['Turbidity (NTU)', 'Dissolved Oxygen (mg/L)']\n",
    "a_train = water_quality_data[features]\n",
    "a_test = water_quality_data[features]\n",
    "b_train = water_quality_data['Conductivity (µS/cm)']"
   ]
  },
  {
   "cell_type": "code",
   "execution_count": 33,
   "id": "ab637cfd1f920c56",
   "metadata": {
    "ExecuteTime": {
     "end_time": "2024-05-29T06:32:09.649622Z",
     "start_time": "2024-05-29T06:32:09.633758Z"
    }
   },
   "outputs": [],
   "source": [
    "regre = linear_model.LinearRegression()\n",
    "regre.fit(a_train, b_train)\n",
    "prediction = regre.predict(a_test)"
   ]
  },
  {
   "cell_type": "code",
   "execution_count": null,
   "id": "884176a54ecb7b58",
   "metadata": {
    "ExecuteTime": {
     "end_time": "2024-05-29T06:32:16.425772Z",
     "start_time": "2024-05-29T06:32:16.415376Z"
    }
   },
   "outputs": [],
   "source": [
    "prediction"
   ]
  },
  {
   "cell_type": "code",
   "execution_count": null,
   "id": "16e373567721b396",
   "metadata": {
    "ExecuteTime": {
     "end_time": "2024-05-29T06:32:29.525283Z",
     "start_time": "2024-05-29T06:32:29.519968Z"
    }
   },
   "outputs": [],
   "source": [
    "print(prediction.shape)"
   ]
  },
  {
   "cell_type": "code",
   "execution_count": null,
   "id": "4884e822762df983",
   "metadata": {
    "ExecuteTime": {
     "end_time": "2024-05-29T06:32:36.002474Z",
     "start_time": "2024-05-29T06:32:35.991607Z"
    }
   },
   "outputs": [],
   "source": [
    "submission = water_quality_data[['Sample ID']]\n",
    "submission"
   ]
  },
  {
   "cell_type": "code",
   "execution_count": null,
   "id": "c4e9d6d5f8db5335",
   "metadata": {
    "ExecuteTime": {
     "end_time": "2024-05-29T06:32:53.026497Z",
     "start_time": "2024-05-29T06:32:53.017705Z"
    }
   },
   "outputs": [],
   "source": [
    "submission['Conductivity (µS/cm)'] = prediction"
   ]
  },
  {
   "cell_type": "code",
   "execution_count": null,
   "id": "3d3839be8edb467",
   "metadata": {
    "ExecuteTime": {
     "end_time": "2024-05-29T06:33:19.364203Z",
     "start_time": "2024-05-29T06:33:19.347479Z"
    }
   },
   "outputs": [],
   "source": [
    "submission"
   ]
  },
  {
   "cell_type": "code",
   "execution_count": null,
   "id": "768a1e93c37422e8",
   "metadata": {
    "ExecuteTime": {
     "end_time": "2024-05-29T06:33:28.441951Z",
     "start_time": "2024-05-29T06:33:28.419733Z"
    }
   },
   "outputs": [],
   "source": [
    "submission = water_quality_data[['Sample ID', 'Turbidity (NTU)', 'Dissolved Oxygen (mg/L)']]\n",
    "submission"
   ]
  },
  {
   "cell_type": "code",
   "execution_count": null,
   "id": "4b7ec1d2f67de91d",
   "metadata": {
    "ExecuteTime": {
     "end_time": "2024-05-29T06:33:40.982277Z",
     "start_time": "2024-05-29T06:33:40.966796Z"
    }
   },
   "outputs": [],
   "source": [
    "submission['Conductivity (µS/cm)'] = prediction"
   ]
  },
  {
   "cell_type": "code",
   "execution_count": null,
   "id": "98717a0f30cb0291",
   "metadata": {
    "ExecuteTime": {
     "end_time": "2024-05-29T06:33:49.055607Z",
     "start_time": "2024-05-29T06:33:49.038795Z"
    }
   },
   "outputs": [],
   "source": [
    "submission"
   ]
  },
  {
   "cell_type": "code",
   "execution_count": null,
   "id": "15e9272407c5cf7b",
   "metadata": {
    "ExecuteTime": {
     "end_time": "2024-05-29T06:34:13.802748Z",
     "start_time": "2024-05-29T06:34:13.445327Z"
    }
   },
   "outputs": [],
   "source": [
    "sns.lmplot(submission, x='Turbidity (NTU)', y='Conductivity (µS/cm)')"
   ]
  },
  {
   "cell_type": "code",
   "execution_count": 43,
   "id": "8013bce3a1059540",
   "metadata": {
    "ExecuteTime": {
     "end_time": "2024-05-29T06:34:22.618173Z",
     "start_time": "2024-05-29T06:34:22.607340Z"
    }
   },
   "outputs": [],
   "source": [
    "p = submission['Turbidity (NTU)']\n",
    "q = submission['Conductivity (µS/cm)']"
   ]
  },
  {
   "cell_type": "code",
   "execution_count": 44,
   "id": "359b02cc349faeb8",
   "metadata": {
    "ExecuteTime": {
     "end_time": "2024-05-29T06:34:27.611688Z",
     "start_time": "2024-05-29T06:34:27.608246Z"
    }
   },
   "outputs": [],
   "source": [
    "p = np.array(p)\n",
    "q = np.array(q)"
   ]
  },
  {
   "cell_type": "code",
   "execution_count": 45,
   "id": "5281282cf6e112ff",
   "metadata": {
    "ExecuteTime": {
     "end_time": "2024-05-29T06:34:32.940808Z",
     "start_time": "2024-05-29T06:34:32.934440Z"
    }
   },
   "outputs": [],
   "source": [
    "p = sma.add_constant(p)"
   ]
  },
  {
   "cell_type": "code",
   "execution_count": 46,
   "id": "82489ba245deb931",
   "metadata": {
    "ExecuteTime": {
     "end_time": "2024-05-29T06:34:38.055810Z",
     "start_time": "2024-05-29T06:34:38.038799Z"
    }
   },
   "outputs": [],
   "source": [
    "model = sma.OLS(q, p).fit()"
   ]
  },
  {
   "cell_type": "code",
   "execution_count": null,
   "id": "f338743b4fecf3cb",
   "metadata": {
    "ExecuteTime": {
     "end_time": "2024-05-29T06:34:43.319250Z",
     "start_time": "2024-05-29T06:34:43.294176Z"
    }
   },
   "outputs": [],
   "source": [
    "print(model.summary())"
   ]
  },
  {
   "cell_type": "code",
   "execution_count": 48,
   "id": "b303e4515955f7ae",
   "metadata": {
    "ExecuteTime": {
     "end_time": "2024-05-29T06:34:57.176883Z",
     "start_time": "2024-05-29T06:34:57.171229Z"
    }
   },
   "outputs": [],
   "source": [
    "columns = ['pH', 'Temperature (°C)', 'Turbidity (NTU)', 'Dissolved Oxygen (mg/L)']"
   ]
  },
  {
   "cell_type": "code",
   "execution_count": 49,
   "id": "f6b8276359e0f8db",
   "metadata": {
    "ExecuteTime": {
     "end_time": "2024-05-29T06:35:03.142746Z",
     "start_time": "2024-05-29T06:35:03.130185Z"
    }
   },
   "outputs": [],
   "source": [
    "a_train = water_quality_data[columns]\n",
    "a_test = water_quality_data[columns]\n",
    "b_train = water_quality_data['Conductivity (µS/cm)']"
   ]
  },
  {
   "cell_type": "code",
   "execution_count": 50,
   "id": "758fbd0791c93f",
   "metadata": {
    "ExecuteTime": {
     "end_time": "2024-05-29T06:35:09.720770Z",
     "start_time": "2024-05-29T06:35:09.705838Z"
    }
   },
   "outputs": [],
   "source": [
    "Regression = linear_model.LinearRegression()\n",
    "Regression.fit(a_train, b_train)\n",
    "predictions = Regression.predict(a_test)"
   ]
  },
  {
   "cell_type": "code",
   "execution_count": null,
   "id": "7a62df1af37740c9",
   "metadata": {
    "ExecuteTime": {
     "end_time": "2024-05-29T06:35:14.930750Z",
     "start_time": "2024-05-29T06:35:14.907245Z"
    }
   },
   "outputs": [],
   "source": [
    "predictions"
   ]
  },
  {
   "cell_type": "code",
   "execution_count": null,
   "id": "2586637ca2fc1d37",
   "metadata": {
    "ExecuteTime": {
     "end_time": "2024-05-29T06:35:27.235594Z",
     "start_time": "2024-05-29T06:35:27.222477Z"
    }
   },
   "outputs": [],
   "source": [
    "water_quality_data['Prediction of Conductivity (µS/cm)'] = predictions\n",
    "water_quality_data"
   ]
  },
  {
   "cell_type": "code",
   "execution_count": null,
   "id": "e49ad4cdc0a18566",
   "metadata": {},
   "outputs": [],
   "source": []
  }
 ],
 "metadata": {
  "kernelspec": {
   "display_name": "Python 3",
   "language": "python",
   "name": "python3"
  },
  "language_info": {
   "codemirror_mode": {
    "name": "ipython",
    "version": 2
   },
   "file_extension": ".py",
   "mimetype": "text/x-python",
   "name": "python",
   "nbconvert_exporter": "python",
   "pygments_lexer": "ipython2",
   "version": "2.7.6"
  }
 },
 "nbformat": 4,
 "nbformat_minor": 5
}
